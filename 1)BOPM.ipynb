{
 "cells": [
  {
   "cell_type": "code",
   "execution_count": 82,
   "metadata": {},
   "outputs": [],
   "source": [
    "import numpy as np\n",
    "import matplotlib.pyplot as plt"
   ]
  },
  {
   "cell_type": "code",
   "execution_count": 96,
   "metadata": {},
   "outputs": [],
   "source": [
    "def Binomial_opm(Asset, volatility, rf , Strike, Expiry, steps, PutCall ):\n",
    "    At = Expiry/steps\n",
    "    df = np.exp(-rf * At)     #discount_factor\n",
    "    temp1 = np.exp( (rf + volatility**2) * At)\n",
    "    temp2 = 0.5 * (df + temp1)\n",
    "    u = temp2 + np.sqrt(temp2 **2 - 1)\n",
    "    d=1/u\n",
    "    p = (math.exp(rf * At) - d) / (u - d)\n",
    "    \n",
    "    #Stock price tree\n",
    "    S_val = np.zeros((n+1,n+1))\n",
    "    S_val[0,0] = Asset\n",
    "    for i in range(1,n+1):\n",
    "        S_val[i,0] = S_val[i-1,0]*u\n",
    "        for j in range(1,i+1):\n",
    "            S_val[i,j] = S_val[i-1,j-1]*d\n",
    "    \n",
    "    #option value at final node   \n",
    "    O_val = np.zeros((n+1,n+1))\n",
    "    for j in range(n+1):\n",
    "        if PutCall==\"C\":  # Call\n",
    "            O_val[n,j] = max(0, S_val[n,j]-K)\n",
    "        elif PutCall==\"P\":   #Put\n",
    "            O_val[n,j] = max(0, Strike-S_val[n,j])\n",
    "    \n",
    "    #backward calculation for option price    \n",
    "    for i in range(n-1,-1,-1):\n",
    "        for j in range(i+1):\n",
    "                if PutCall==\"P\":\n",
    "                    O_val[i,j] = max(0, Strike-S_val[i,j], df*(p*O_val[i+1,j]+(1-p)*O_val[i+1,j+1]))\n",
    "                elif PutCall==\"C\":\n",
    "                    O_val[i,j] = max(0, S_val[i,j]-Strike, df*(p*O_val[i+1,j]+(1-p)*O_val[i+1,j+1]))\n",
    "    return print(\"The Option Price is\", O_val[0,0])"
   ]
  },
  {
   "cell_type": "code",
   "execution_count": 97,
   "metadata": {},
   "outputs": [
    {
     "name": "stdout",
     "output_type": "stream",
     "text": [
      "The Option Price is 9.410603753490719\n"
     ]
    }
   ],
   "source": [
    "# Test Case\n",
    "Binomial_opm(Asset=100, volatility=0.4, rf=0.045 , Strike=90, Expiry=1, steps=10, PutCall=\"P\" )"
   ]
  },
  {
   "cell_type": "code",
   "execution_count": null,
   "metadata": {},
   "outputs": [],
   "source": []
  },
  {
   "cell_type": "code",
   "execution_count": null,
   "metadata": {},
   "outputs": [],
   "source": []
  }
 ],
 "metadata": {
  "kernelspec": {
   "display_name": "Python 3",
   "language": "python",
   "name": "python3"
  },
  "language_info": {
   "codemirror_mode": {
    "name": "ipython",
    "version": 3
   },
   "file_extension": ".py",
   "mimetype": "text/x-python",
   "name": "python",
   "nbconvert_exporter": "python",
   "pygments_lexer": "ipython3",
   "version": "3.7.3"
  }
 },
 "nbformat": 4,
 "nbformat_minor": 2
}
