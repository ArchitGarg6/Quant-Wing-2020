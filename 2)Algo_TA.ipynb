{
 "cells": [
  {
   "cell_type": "code",
   "execution_count": 1,
   "metadata": {},
   "outputs": [],
   "source": [
    "import numpy as np\n",
    "import pandas as pd\n",
    "import matplotlib.pyplot as plt\n",
    "%matplotlib inline\n",
    "import seaborn as sns\n",
    "import yfinance as yf\n",
    "from datetime import time \n"
   ]
  },
  {
   "cell_type": "code",
   "execution_count": 3,
   "metadata": {},
   "outputs": [
    {
     "name": "stdout",
     "output_type": "stream",
     "text": [
      "[*********************100%***********************]  1 of 1 completed\n"
     ]
    },
    {
     "data": {
      "text/html": [
       "<div>\n",
       "<style scoped>\n",
       "    .dataframe tbody tr th:only-of-type {\n",
       "        vertical-align: middle;\n",
       "    }\n",
       "\n",
       "    .dataframe tbody tr th {\n",
       "        vertical-align: top;\n",
       "    }\n",
       "\n",
       "    .dataframe thead th {\n",
       "        text-align: right;\n",
       "    }\n",
       "</style>\n",
       "<table border=\"1\" class=\"dataframe\">\n",
       "  <thead>\n",
       "    <tr style=\"text-align: right;\">\n",
       "      <th></th>\n",
       "      <th>Open</th>\n",
       "      <th>High</th>\n",
       "      <th>Low</th>\n",
       "      <th>Close</th>\n",
       "    </tr>\n",
       "    <tr>\n",
       "      <th>Datetime</th>\n",
       "      <th></th>\n",
       "      <th></th>\n",
       "      <th></th>\n",
       "      <th></th>\n",
       "    </tr>\n",
       "  </thead>\n",
       "  <tbody>\n",
       "    <tr>\n",
       "      <th>2020-07-06 09:15:00+05:30</th>\n",
       "      <td>10723.849609</td>\n",
       "      <td>10723.849609</td>\n",
       "      <td>10695.950195</td>\n",
       "      <td>10705.750000</td>\n",
       "    </tr>\n",
       "    <tr>\n",
       "      <th>2020-07-06 09:20:00+05:30</th>\n",
       "      <td>10705.549805</td>\n",
       "      <td>10718.849609</td>\n",
       "      <td>10705.549805</td>\n",
       "      <td>10718.849609</td>\n",
       "    </tr>\n",
       "    <tr>\n",
       "      <th>2020-07-06 09:25:00+05:30</th>\n",
       "      <td>10718.500000</td>\n",
       "      <td>10718.500000</td>\n",
       "      <td>10704.349609</td>\n",
       "      <td>10713.500000</td>\n",
       "    </tr>\n",
       "    <tr>\n",
       "      <th>2020-07-06 09:30:00+05:30</th>\n",
       "      <td>10713.700195</td>\n",
       "      <td>10727.700195</td>\n",
       "      <td>10713.700195</td>\n",
       "      <td>10727.599609</td>\n",
       "    </tr>\n",
       "    <tr>\n",
       "      <th>2020-07-06 09:35:00+05:30</th>\n",
       "      <td>10727.400391</td>\n",
       "      <td>10731.150391</td>\n",
       "      <td>10722.000000</td>\n",
       "      <td>10723.599609</td>\n",
       "    </tr>\n",
       "  </tbody>\n",
       "</table>\n",
       "</div>"
      ],
      "text/plain": [
       "                                   Open          High           Low  \\\n",
       "Datetime                                                              \n",
       "2020-07-06 09:15:00+05:30  10723.849609  10723.849609  10695.950195   \n",
       "2020-07-06 09:20:00+05:30  10705.549805  10718.849609  10705.549805   \n",
       "2020-07-06 09:25:00+05:30  10718.500000  10718.500000  10704.349609   \n",
       "2020-07-06 09:30:00+05:30  10713.700195  10727.700195  10713.700195   \n",
       "2020-07-06 09:35:00+05:30  10727.400391  10731.150391  10722.000000   \n",
       "\n",
       "                                  Close  \n",
       "Datetime                                 \n",
       "2020-07-06 09:15:00+05:30  10705.750000  \n",
       "2020-07-06 09:20:00+05:30  10718.849609  \n",
       "2020-07-06 09:25:00+05:30  10713.500000  \n",
       "2020-07-06 09:30:00+05:30  10727.599609  \n",
       "2020-07-06 09:35:00+05:30  10723.599609  "
      ]
     },
     "execution_count": 3,
     "metadata": {},
     "output_type": "execute_result"
    }
   ],
   "source": [
    "from datetime import datetime as dt\n",
    "start  = dt(2020,7,5)\n",
    "end = dt(2020,8,30)\n",
    "raw_data = yf.download('^NSEI', start = start, end = end, interval ='5m')\n",
    "data = raw_data.drop([\"Volume\",\"Adj Close\"], axis=1)\n",
    "data.head()"
   ]
  },
  {
   "cell_type": "code",
   "execution_count": 4,
   "metadata": {},
   "outputs": [],
   "source": [
    "def rsi(df, n):\n",
    "    \n",
    "    temp = pd.DataFrame()\n",
    "    temp['UpI'] = df['High'].shift(-1)-df['High']\n",
    "    temp['DoI'] = df['Low']-df['Low'].shift(-1)\n",
    "    \n",
    "    temp.UpI = (temp.UpI>temp.DoI)*(temp.UpI>0)*(temp.UpI)\n",
    "    temp.DoI = (temp.DoI>temp.UpI)*(temp.DoI>0)*(temp.DoI)\n",
    "    \n",
    "    PosDI = pd.Series(temp.UpI.ewm(span=n, min_periods=n).mean())\n",
    "    NegDI = pd.Series(temp.DoI.ewm(span=n, min_periods=n).mean())\n",
    "    \n",
    "    RSI = pd.Series(PosDI / (PosDI + NegDI), name='RSI_' + str(n))\n",
    "    df = df.join(RSI)\n",
    "    return df\n",
    "def exp_ma(df, n):\n",
    "    EMA = pd.Series(df['Close'].ewm(span=n, min_periods=n).mean(), name='EMA_' + str(n))\n",
    "    return EMA\n",
    "def exp_ma_exp_ma(df, n):\n",
    "    EMA = exp_ma(df,n)\n",
    "    EMA_EMA = pd.Series(EMA.ewm(span=n, min_periods=n).mean(), name='EMA_EMA_' + str(n))\n",
    "    return EMA_EMA\n",
    "def DEMA(df,n):\n",
    "    DEMA = pd.Series(2*exp_ma(df,n)-exp_ma_exp_ma(df,n), name='DEMA_' + str(n))\n",
    "    return DEMA\n",
    "         "
   ]
  },
  {
   "cell_type": "code",
   "execution_count": 5,
   "metadata": {},
   "outputs": [
    {
     "name": "stderr",
     "output_type": "stream",
     "text": [
      "C:\\Users\\ARCHIT\\Anaconda3\\lib\\site-packages\\pandas\\core\\computation\\expressions.py:183: UserWarning: evaluating in Python space because the '*' operator is not supported by numexpr for the bool dtype, use '&' instead\n",
      "  .format(op=op_str, alt_op=unsupported[op_str]))\n"
     ]
    },
    {
     "data": {
      "text/html": [
       "<div>\n",
       "<style scoped>\n",
       "    .dataframe tbody tr th:only-of-type {\n",
       "        vertical-align: middle;\n",
       "    }\n",
       "\n",
       "    .dataframe tbody tr th {\n",
       "        vertical-align: top;\n",
       "    }\n",
       "\n",
       "    .dataframe thead th {\n",
       "        text-align: right;\n",
       "    }\n",
       "</style>\n",
       "<table border=\"1\" class=\"dataframe\">\n",
       "  <thead>\n",
       "    <tr style=\"text-align: right;\">\n",
       "      <th></th>\n",
       "      <th>Open</th>\n",
       "      <th>High</th>\n",
       "      <th>Low</th>\n",
       "      <th>Close</th>\n",
       "      <th>RSI_4</th>\n",
       "      <th>DEMA_2</th>\n",
       "      <th>DEMA_10</th>\n",
       "    </tr>\n",
       "    <tr>\n",
       "      <th>Datetime</th>\n",
       "      <th></th>\n",
       "      <th></th>\n",
       "      <th></th>\n",
       "      <th></th>\n",
       "      <th></th>\n",
       "      <th></th>\n",
       "      <th></th>\n",
       "    </tr>\n",
       "  </thead>\n",
       "  <tbody>\n",
       "    <tr>\n",
       "      <th>2020-07-06 10:45:00+05:30</th>\n",
       "      <td>10736.650391</td>\n",
       "      <td>10743.549805</td>\n",
       "      <td>10735.750000</td>\n",
       "      <td>10741.700195</td>\n",
       "      <td>0.872509</td>\n",
       "      <td>10741.052292</td>\n",
       "      <td>10738.023726</td>\n",
       "    </tr>\n",
       "    <tr>\n",
       "      <th>2020-07-06 10:50:00+05:30</th>\n",
       "      <td>10741.349609</td>\n",
       "      <td>10745.799805</td>\n",
       "      <td>10738.799805</td>\n",
       "      <td>10744.849609</td>\n",
       "      <td>0.804358</td>\n",
       "      <td>10744.741105</td>\n",
       "      <td>10740.497037</td>\n",
       "    </tr>\n",
       "    <tr>\n",
       "      <th>2020-07-06 10:55:00+05:30</th>\n",
       "      <td>10743.849609</td>\n",
       "      <td>10745.400391</td>\n",
       "      <td>10738.400391</td>\n",
       "      <td>10742.200195</td>\n",
       "      <td>0.381519</td>\n",
       "      <td>10742.844162</td>\n",
       "      <td>10741.394439</td>\n",
       "    </tr>\n",
       "    <tr>\n",
       "      <th>2020-07-06 11:00:00+05:30</th>\n",
       "      <td>10742.500000</td>\n",
       "      <td>10746.049805</td>\n",
       "      <td>10735.000000</td>\n",
       "      <td>10738.599609</td>\n",
       "      <td>0.381519</td>\n",
       "      <td>10739.146663</td>\n",
       "      <td>10740.822841</td>\n",
       "    </tr>\n",
       "    <tr>\n",
       "      <th>2020-07-06 11:05:00+05:30</th>\n",
       "      <td>10738.500000</td>\n",
       "      <td>10745.250000</td>\n",
       "      <td>10738.500000</td>\n",
       "      <td>10744.000000</td>\n",
       "      <td>0.763068</td>\n",
       "      <td>10743.293042</td>\n",
       "      <td>10742.165076</td>\n",
       "    </tr>\n",
       "  </tbody>\n",
       "</table>\n",
       "</div>"
      ],
      "text/plain": [
       "                                   Open          High           Low  \\\n",
       "Datetime                                                              \n",
       "2020-07-06 10:45:00+05:30  10736.650391  10743.549805  10735.750000   \n",
       "2020-07-06 10:50:00+05:30  10741.349609  10745.799805  10738.799805   \n",
       "2020-07-06 10:55:00+05:30  10743.849609  10745.400391  10738.400391   \n",
       "2020-07-06 11:00:00+05:30  10742.500000  10746.049805  10735.000000   \n",
       "2020-07-06 11:05:00+05:30  10738.500000  10745.250000  10738.500000   \n",
       "\n",
       "                                  Close     RSI_4        DEMA_2       DEMA_10  \n",
       "Datetime                                                                       \n",
       "2020-07-06 10:45:00+05:30  10741.700195  0.872509  10741.052292  10738.023726  \n",
       "2020-07-06 10:50:00+05:30  10744.849609  0.804358  10744.741105  10740.497037  \n",
       "2020-07-06 10:55:00+05:30  10742.200195  0.381519  10742.844162  10741.394439  \n",
       "2020-07-06 11:00:00+05:30  10738.599609  0.381519  10739.146663  10740.822841  \n",
       "2020-07-06 11:05:00+05:30  10744.000000  0.763068  10743.293042  10742.165076  "
      ]
     },
     "execution_count": 5,
     "metadata": {},
     "output_type": "execute_result"
    }
   ],
   "source": [
    "data  = rsi(data, 4)\n",
    "data = data.join(DEMA(data,2)).join(DEMA(data,10))\n",
    "data.dropna(inplace = True)\n",
    "data.head()"
   ]
  },
  {
   "cell_type": "code",
   "execution_count": 6,
   "metadata": {},
   "outputs": [],
   "source": [
    "data['Long_tag'] = False\n",
    "#data['Buy_tag'] = np.where(data.index.time<time(15,15), True, False)\n",
    "data.loc[(data['DEMA_2']>data['DEMA_10']) &\n",
    "         (data['RSI_4']<0.3),'Long_tag'] = True\n",
    "data['Short_tag'] = False\n",
    "#data['Sell_tag'] = np.where(data.index.time>time(15,15), True, False)\n",
    "data.loc[(data['DEMA_2']<data['DEMA_10']) &\n",
    "         (data['RSI_4']>0.3),'Short_tag'] = True"
   ]
  },
  {
   "cell_type": "code",
   "execution_count": 7,
   "metadata": {},
   "outputs": [
    {
     "data": {
      "text/html": [
       "<div>\n",
       "<style scoped>\n",
       "    .dataframe tbody tr th:only-of-type {\n",
       "        vertical-align: middle;\n",
       "    }\n",
       "\n",
       "    .dataframe tbody tr th {\n",
       "        vertical-align: top;\n",
       "    }\n",
       "\n",
       "    .dataframe thead th {\n",
       "        text-align: right;\n",
       "    }\n",
       "</style>\n",
       "<table border=\"1\" class=\"dataframe\">\n",
       "  <thead>\n",
       "    <tr style=\"text-align: right;\">\n",
       "      <th></th>\n",
       "      <th>Close</th>\n",
       "      <th>RSI_4</th>\n",
       "      <th>DEMA_2</th>\n",
       "      <th>DEMA_10</th>\n",
       "      <th>Long_tag</th>\n",
       "      <th>Short_tag</th>\n",
       "    </tr>\n",
       "    <tr>\n",
       "      <th>Datetime</th>\n",
       "      <th></th>\n",
       "      <th></th>\n",
       "      <th></th>\n",
       "      <th></th>\n",
       "      <th></th>\n",
       "      <th></th>\n",
       "    </tr>\n",
       "  </thead>\n",
       "  <tbody>\n",
       "    <tr>\n",
       "      <th>2020-07-06 10:45:00+05:30</th>\n",
       "      <td>10741.700195</td>\n",
       "      <td>0.872509</td>\n",
       "      <td>10741.052292</td>\n",
       "      <td>10738.023726</td>\n",
       "      <td>False</td>\n",
       "      <td>False</td>\n",
       "    </tr>\n",
       "    <tr>\n",
       "      <th>2020-07-06 10:50:00+05:30</th>\n",
       "      <td>10744.849609</td>\n",
       "      <td>0.804358</td>\n",
       "      <td>10744.741105</td>\n",
       "      <td>10740.497037</td>\n",
       "      <td>False</td>\n",
       "      <td>False</td>\n",
       "    </tr>\n",
       "    <tr>\n",
       "      <th>2020-07-06 10:55:00+05:30</th>\n",
       "      <td>10742.200195</td>\n",
       "      <td>0.381519</td>\n",
       "      <td>10742.844162</td>\n",
       "      <td>10741.394439</td>\n",
       "      <td>False</td>\n",
       "      <td>False</td>\n",
       "    </tr>\n",
       "    <tr>\n",
       "      <th>2020-07-06 11:00:00+05:30</th>\n",
       "      <td>10738.599609</td>\n",
       "      <td>0.381519</td>\n",
       "      <td>10739.146663</td>\n",
       "      <td>10740.822841</td>\n",
       "      <td>False</td>\n",
       "      <td>True</td>\n",
       "    </tr>\n",
       "    <tr>\n",
       "      <th>2020-07-06 11:05:00+05:30</th>\n",
       "      <td>10744.000000</td>\n",
       "      <td>0.763068</td>\n",
       "      <td>10743.293042</td>\n",
       "      <td>10742.165076</td>\n",
       "      <td>False</td>\n",
       "      <td>False</td>\n",
       "    </tr>\n",
       "  </tbody>\n",
       "</table>\n",
       "</div>"
      ],
      "text/plain": [
       "                                  Close     RSI_4        DEMA_2       DEMA_10  \\\n",
       "Datetime                                                                        \n",
       "2020-07-06 10:45:00+05:30  10741.700195  0.872509  10741.052292  10738.023726   \n",
       "2020-07-06 10:50:00+05:30  10744.849609  0.804358  10744.741105  10740.497037   \n",
       "2020-07-06 10:55:00+05:30  10742.200195  0.381519  10742.844162  10741.394439   \n",
       "2020-07-06 11:00:00+05:30  10738.599609  0.381519  10739.146663  10740.822841   \n",
       "2020-07-06 11:05:00+05:30  10744.000000  0.763068  10743.293042  10742.165076   \n",
       "\n",
       "                           Long_tag  Short_tag  \n",
       "Datetime                                        \n",
       "2020-07-06 10:45:00+05:30     False      False  \n",
       "2020-07-06 10:50:00+05:30     False      False  \n",
       "2020-07-06 10:55:00+05:30     False      False  \n",
       "2020-07-06 11:00:00+05:30     False       True  \n",
       "2020-07-06 11:05:00+05:30     False      False  "
      ]
     },
     "execution_count": 7,
     "metadata": {},
     "output_type": "execute_result"
    }
   ],
   "source": [
    "data.drop(['High','Low','Open'],axis = 1, inplace =True)\n",
    "data.head()"
   ]
  },
  {
   "cell_type": "code",
   "execution_count": 8,
   "metadata": {},
   "outputs": [],
   "source": [
    "#def T_costs_long(buy,sell, n):\n",
    "#    T_costs = 1.18(min(0.0003*buy, 20) +0.0000325*max(sell-buy,0)) + 0.0025*sell #SEBI charges not included \n",
    "#    return T_costs\n",
    "\n",
    "#def T_costs_short(buy,sell, n):\n",
    "#    T_costs = 1.18(min(0.0003*buy, 20) -0.0000325*min(sell-buy,0)) + 0.0025*sell #SEBI charges not included \n",
    "#    return T_costs"
   ]
  },
  {
   "cell_type": "code",
   "execution_count": 9,
   "metadata": {},
   "outputs": [],
   "source": [
    "Initial_capital = 200000         # brokerage =100   #stoploss =0.5\n",
    "positions  = 150\n",
    "active_pos = 0\n",
    "data['Long_cover'] =0\n",
    "data['Short_sell'] =0\n",
    "data['Short_cover'] =0\n",
    "data['active_cash'] =0\n",
    "data['Long_buy']=0\n",
    "active_cash = Initial_capital\n",
    "long_pos = 0\n",
    "short_pos = 0\n",
    "k=0\n",
    "d=0\n"
   ]
  },
  {
   "cell_type": "code",
   "execution_count": 10,
   "metadata": {},
   "outputs": [
    {
     "name": "stderr",
     "output_type": "stream",
     "text": [
      "C:\\Users\\ARCHIT\\Anaconda3\\lib\\site-packages\\pandas\\core\\indexing.py:190: SettingWithCopyWarning: \n",
      "A value is trying to be set on a copy of a slice from a DataFrame\n",
      "\n",
      "See the caveats in the documentation: http://pandas.pydata.org/pandas-docs/stable/indexing.html#indexing-view-versus-copy\n",
      "  self._setitem_with_indexer(indexer, value)\n"
     ]
    }
   ],
   "source": [
    "for i in data.index:\n",
    "    k+=1\n",
    "    if long_pos>0 and (data.loc[i,'Short_tag'] or i.time() > time(15,15)):  #covering long\n",
    "        j=0\n",
    "        for j  in range(k):\n",
    "            if data['Long_buy'].iloc[j]!=0 and data['Long_cover'].iloc[j]==0 :\n",
    "                data['Long_cover'].iloc[j] = data['Close'].loc[i]* long_pos -100* long_pos\n",
    "                active_cash+= data['Close'].loc[i]* long_pos               \n",
    "                data['Long_buy'].iloc[j]=0\n",
    "                long_pos = 0\n",
    "        #print('v')\n",
    "\n",
    "    if short_pos>0 and (data.loc[i,'Long_tag'] or i.time() > time(15,15)):  #covering short\n",
    "        j=0\n",
    "        for j in range(k):\n",
    "            if data['Short_sell'].iloc[j]!=0 and data['Short_cover'].iloc[j]==0:\n",
    "                data['Short_cover'].iloc[j] = data['Close'].loc[i]* short_pos\n",
    "                active_cash += data['Close'].loc[i]* short_pos           \n",
    "                data['Short_sell'].iloc[j]=0\n",
    "                short_pos = 0\n",
    "        #print('c')\n",
    "    \n",
    "    if long_pos>0 and (data.loc[i,'Short_tag'] or i.time() < time(15,15)):  #covering long STOP LOSS\n",
    "        j=0\n",
    "        for j  in range(k):\n",
    "            if data['Long_buy'].iloc[j]!=0 and data['Long_cover'].iloc[j]==0 and data['Long_buy'].iloc[j]*0.95 >=data['Close'].loc[i] :\n",
    "                data['Long_cover'].iloc[j] = data['Close'].loc[i]* long_pos - 100* long_pos\n",
    "                active_cash+= data['Close'].loc[i]* long_pos               \n",
    "                data['Long_buy'].iloc[j]=0\n",
    "                long_pos = 0\n",
    "        #print('sv')\n",
    "\n",
    "    if short_pos>0 and (data.loc[i,'Long_tag'] or i.time() < time(15,15)):  #covering short STOP LOSS\n",
    "        j=0\n",
    "        for j in range(k):\n",
    "            if data['Short_sell'].iloc[j]!=0 and data['Short_cover'].iloc[j]==0 and data['Short_sell'].iloc[j]*1.05>=data['Close'].loc[i]:\n",
    "                data['Short_cover'].iloc[j] = data['Close'].loc[i]* short_pos -100\n",
    "                active_cash += data['Close'].loc[i]* short_pos           \n",
    "                data['Short_sell'].iloc[j]=0\n",
    "                short_pos = 0\n",
    "        #print('sc')\n",
    "    \n",
    "        \n",
    "    active_pos = long_pos+ short_pos\n",
    "    if active_pos < positions and i.time() < time(15,15):    #executing new orders\n",
    "        \n",
    "        if data.loc[i,'Long_tag']:\n",
    "            data.loc[i,'Long_buy'] = min(positions-active_pos,int(active_cash/data.loc[i,'Close']*0.1))*data.loc[i,'Close']\n",
    "            active_cash-=data.loc[i,'Long_buy']+100          \n",
    "            long_pos+= min(positions-active_pos,int(active_cash/data.loc[i,'Close']*0.1))\n",
    "            #print('l')\n",
    "            \n",
    "        if data.loc[i,'Short_tag']:\n",
    "            data.loc[i,'Short_sell'] = min(positions-active_pos,int(active_cash/data.loc[i,'Close']*0.1))*data.loc[i,'Close']\n",
    "            active_cash-= (data.loc[i,'Short_sell']+100)\n",
    "            short_pos+= min(positions-active_pos,int(active_cash/data.loc[i,'Close']*0.1))\n",
    "            #print('s')\n",
    "\n",
    "            "
   ]
  },
  {
   "cell_type": "code",
   "execution_count": 11,
   "metadata": {},
   "outputs": [],
   "source": [
    "data['PnL'] = -data['Long_buy']+data['Long_cover']-data['Short_sell']+data['Short_cover']"
   ]
  },
  {
   "cell_type": "code",
   "execution_count": 12,
   "metadata": {},
   "outputs": [
    {
     "data": {
      "text/plain": [
       "<matplotlib.axes._subplots.AxesSubplot at 0x1e0efb14f60>"
      ]
     },
     "execution_count": 12,
     "metadata": {},
     "output_type": "execute_result"
    },
    {
     "data": {
      "image/png": "[encoded data removed]",
      "text/plain": [
       "<Figure size 432x288 with 1 Axes>"
      ]
     },
     "metadata": {
      "needs_background": "light"
     },
     "output_type": "display_data"
    }
   ],
   "source": [
    "data['PnL'].plot()"
   ]
  },
  {
   "cell_type": "code",
   "execution_count": 13,
   "metadata": {},
   "outputs": [
    {
     "data": {
      "text/plain": [
       "<matplotlib.axes._subplots.AxesSubplot at 0x1e0eff23048>"
      ]
     },
     "execution_count": 13,
     "metadata": {},
     "output_type": "execute_result"
    },
    {
     "data": {
      "image/png": "[encoded data removed]",
      "text/plain": [
       "<Figure size 432x288 with 1 Axes>"
      ]
     },
     "metadata": {
      "needs_background": "light"
     },
     "output_type": "display_data"
    }
   ],
   "source": [
    "data['PnL'].cumsum().plot()"
   ]
  },
  {
   "cell_type": "code",
   "execution_count": null,
   "metadata": {},
   "outputs": [],
   "source": []
  },
  {
   "cell_type": "raw",
   "metadata": {},
   "source": [
    "Strategy:-\n",
    "\n",
    "Indicators Used\t DEMA, RSI\n",
    "\n",
    "Buy Condition\t\n",
    "    2 periods DEMA crosses over 10 periods DEMA\n",
    "    RSI value in daily timeframe is less than 30\n",
    "    Trade time is between 9:30 to 15:15\n",
    "    \n",
    "Short Condition\t\n",
    "    2 periods DEMA crosses under 10 periods DEMA\n",
    "    RSI value in daily timeframe is greater than 50\n",
    "    Trade time is between 9:30 to 15:15\n",
    "    \n",
    "Sell Condition\n",
    "    Same as Short or Time >= 15:15\n",
    "    \n",
    "Cover Condition\n",
    "    Same as Buy or Time >= 15:15\n",
    "Stop Loss\t0.5%\n",
    "\n",
    "Position Size\t150 \n"
   ]
  },
  {
   "cell_type": "code",
   "execution_count": null,
   "metadata": {},
   "outputs": [],
   "source": []
  },
  {
   "cell_type": "code",
   "execution_count": null,
   "metadata": {},
   "outputs": [],
   "source": []
  },
  {
   "cell_type": "code",
   "execution_count": null,
   "metadata": {},
   "outputs": [],
   "source": []
  },
  {
   "cell_type": "code",
   "execution_count": null,
   "metadata": {},
   "outputs": [],
   "source": []
  }
 ],
 "metadata": {
  "kernelspec": {
   "display_name": "Python 3",
   "language": "python",
   "name": "python3"
  },
  "language_info": {
   "codemirror_mode": {
    "name": "ipython",
    "version": 3
   },
   "file_extension": ".py",
   "mimetype": "text/x-python",
   "name": "python",
   "nbconvert_exporter": "python",
   "pygments_lexer": "ipython3",
   "version": "3.7.3"
  }
 },
 "nbformat": 4,
 "nbformat_minor": 2
}
